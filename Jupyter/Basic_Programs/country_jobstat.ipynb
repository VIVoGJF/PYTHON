{
 "cells": [
  {
   "cell_type": "code",
   "execution_count": 2,
   "id": "30e89bd4",
   "metadata": {},
   "outputs": [],
   "source": [
    "import pandas as pd\n",
    "from datasets import load_dataset\n",
    "\n",
    "dataset = load_dataset('lukebarousse/data_jobs')\n",
    "df = dataset['train'].to_pandas()\n"
   ]
  },
  {
   "cell_type": "code",
   "execution_count": 3,
   "id": "c6f94655",
   "metadata": {},
   "outputs": [],
   "source": [
    "df['job_posted_date'] = pd.to_datetime(df.job_posted_date)"
   ]
  },
  {
   "cell_type": "code",
   "execution_count": 4,
   "id": "1ad8f4d2",
   "metadata": {},
   "outputs": [
    {
     "name": "stdout",
     "output_type": "stream",
     "text": [
      "<class 'pandas.core.frame.DataFrame'>\n",
      "RangeIndex: 785741 entries, 0 to 785740\n",
      "Data columns (total 17 columns):\n",
      " #   Column                 Non-Null Count   Dtype         \n",
      "---  ------                 --------------   -----         \n",
      " 0   job_title_short        785741 non-null  object        \n",
      " 1   job_title              785740 non-null  object        \n",
      " 2   job_location           784696 non-null  object        \n",
      " 3   job_via                785733 non-null  object        \n",
      " 4   job_schedule_type      773074 non-null  object        \n",
      " 5   job_work_from_home     785741 non-null  bool          \n",
      " 6   search_location        785741 non-null  object        \n",
      " 7   job_posted_date        785741 non-null  datetime64[ns]\n",
      " 8   job_no_degree_mention  785741 non-null  bool          \n",
      " 9   job_health_insurance   785741 non-null  bool          \n",
      " 10  job_country            785692 non-null  object        \n",
      " 11  salary_rate            33067 non-null   object        \n",
      " 12  salary_year_avg        22003 non-null   float64       \n",
      " 13  salary_hour_avg        10662 non-null   float64       \n",
      " 14  company_name           785723 non-null  object        \n",
      " 15  job_skills             668704 non-null  object        \n",
      " 16  job_type_skills        668704 non-null  object        \n",
      "dtypes: bool(3), datetime64[ns](1), float64(2), object(11)\n",
      "memory usage: 86.2+ MB\n"
     ]
    }
   ],
   "source": [
    "df.info()"
   ]
  },
  {
   "cell_type": "code",
   "execution_count": 12,
   "id": "28fc51c5",
   "metadata": {},
   "outputs": [
    {
     "data": {
      "text/plain": [
       "job_country\n",
       "United States     206292\n",
       "India              51088\n",
       "United Kingdom     40375\n",
       "France             39922\n",
       "Germany            27694\n",
       "                   ...  \n",
       "Guinea                 4\n",
       "Lesotho                3\n",
       "Mauritania             3\n",
       "Bhutan                 3\n",
       "Maldives               2\n",
       "Name: count, Length: 160, dtype: int64"
      ]
     },
     "execution_count": 12,
     "metadata": {},
     "output_type": "execute_result"
    }
   ],
   "source": [
    "df['job_country'].value_counts(\n",
    ")"
   ]
  },
  {
   "cell_type": "code",
   "execution_count": 8,
   "id": "40ac1c63",
   "metadata": {},
   "outputs": [],
   "source": [
    "ind = df[df.job_country == 'India']"
   ]
  },
  {
   "cell_type": "code",
   "execution_count": 16,
   "id": "b0e3543c",
   "metadata": {},
   "outputs": [],
   "source": [
    "ind = ind[ind.salary_year_avg.notna()]"
   ]
  },
  {
   "cell_type": "code",
   "execution_count": 24,
   "id": "27cf7bd0",
   "metadata": {},
   "outputs": [
    {
     "data": {
      "text/html": [
       "<div>\n",
       "<style scoped>\n",
       "    .dataframe tbody tr th:only-of-type {\n",
       "        vertical-align: middle;\n",
       "    }\n",
       "\n",
       "    .dataframe tbody tr th {\n",
       "        vertical-align: top;\n",
       "    }\n",
       "\n",
       "    .dataframe thead th {\n",
       "        text-align: right;\n",
       "    }\n",
       "</style>\n",
       "<table border=\"1\" class=\"dataframe\">\n",
       "  <thead>\n",
       "    <tr style=\"text-align: right;\">\n",
       "      <th></th>\n",
       "      <th>median</th>\n",
       "      <th>min</th>\n",
       "      <th>max</th>\n",
       "      <th>count</th>\n",
       "    </tr>\n",
       "    <tr>\n",
       "      <th>job_title_short</th>\n",
       "      <th></th>\n",
       "      <th></th>\n",
       "      <th></th>\n",
       "      <th></th>\n",
       "    </tr>\n",
       "  </thead>\n",
       "  <tbody>\n",
       "    <tr>\n",
       "      <th>Senior Data Scientist</th>\n",
       "      <td>149653.0</td>\n",
       "      <td>64800.0</td>\n",
       "      <td>170575.0</td>\n",
       "      <td>33</td>\n",
       "    </tr>\n",
       "    <tr>\n",
       "      <th>Senior Data Engineer</th>\n",
       "      <td>147500.0</td>\n",
       "      <td>35000.0</td>\n",
       "      <td>181765.0</td>\n",
       "      <td>57</td>\n",
       "    </tr>\n",
       "    <tr>\n",
       "      <th>Data Engineer</th>\n",
       "      <td>147500.0</td>\n",
       "      <td>43200.0</td>\n",
       "      <td>249000.0</td>\n",
       "      <td>169</td>\n",
       "    </tr>\n",
       "    <tr>\n",
       "      <th>Data Scientist</th>\n",
       "      <td>114008.0</td>\n",
       "      <td>43200.0</td>\n",
       "      <td>204381.0</td>\n",
       "      <td>92</td>\n",
       "    </tr>\n",
       "    <tr>\n",
       "      <th>Senior Data Analyst</th>\n",
       "      <td>111175.0</td>\n",
       "      <td>64800.0</td>\n",
       "      <td>177283.0</td>\n",
       "      <td>27</td>\n",
       "    </tr>\n",
       "    <tr>\n",
       "      <th>Data Analyst</th>\n",
       "      <td>100500.0</td>\n",
       "      <td>32400.0</td>\n",
       "      <td>650000.0</td>\n",
       "      <td>94</td>\n",
       "    </tr>\n",
       "    <tr>\n",
       "      <th>Machine Learning Engineer</th>\n",
       "      <td>79200.0</td>\n",
       "      <td>32500.0</td>\n",
       "      <td>267000.0</td>\n",
       "      <td>57</td>\n",
       "    </tr>\n",
       "    <tr>\n",
       "      <th>Software Engineer</th>\n",
       "      <td>79200.0</td>\n",
       "      <td>44418.5</td>\n",
       "      <td>200000.0</td>\n",
       "      <td>45</td>\n",
       "    </tr>\n",
       "    <tr>\n",
       "      <th>Business Analyst</th>\n",
       "      <td>64800.0</td>\n",
       "      <td>43200.0</td>\n",
       "      <td>142025.0</td>\n",
       "      <td>8</td>\n",
       "    </tr>\n",
       "  </tbody>\n",
       "</table>\n",
       "</div>"
      ],
      "text/plain": [
       "                             median      min       max  count\n",
       "job_title_short                                              \n",
       "Senior Data Scientist      149653.0  64800.0  170575.0     33\n",
       "Senior Data Engineer       147500.0  35000.0  181765.0     57\n",
       "Data Engineer              147500.0  43200.0  249000.0    169\n",
       "Data Scientist             114008.0  43200.0  204381.0     92\n",
       "Senior Data Analyst        111175.0  64800.0  177283.0     27\n",
       "Data Analyst               100500.0  32400.0  650000.0     94\n",
       "Machine Learning Engineer   79200.0  32500.0  267000.0     57\n",
       "Software Engineer           79200.0  44418.5  200000.0     45\n",
       "Business Analyst            64800.0  43200.0  142025.0      8"
      ]
     },
     "execution_count": 24,
     "metadata": {},
     "output_type": "execute_result"
    }
   ],
   "source": [
    "ind.groupby(['job_title_short'])['salary_year_avg'].agg(['median','min','max','count']).sort_values('median', ascending=False)"
   ]
  },
  {
   "cell_type": "code",
   "execution_count": 14,
   "id": "ea6fac21",
   "metadata": {},
   "outputs": [],
   "source": [
    "us = df[df.job_country == 'United States']"
   ]
  },
  {
   "cell_type": "code",
   "execution_count": 18,
   "id": "eb4c8267",
   "metadata": {},
   "outputs": [],
   "source": [
    "us = us[us.salary_year_avg.notna()]"
   ]
  },
  {
   "cell_type": "code",
   "execution_count": 25,
   "id": "70d63da8",
   "metadata": {},
   "outputs": [
    {
     "data": {
      "text/html": [
       "<div>\n",
       "<style scoped>\n",
       "    .dataframe tbody tr th:only-of-type {\n",
       "        vertical-align: middle;\n",
       "    }\n",
       "\n",
       "    .dataframe tbody tr th {\n",
       "        vertical-align: top;\n",
       "    }\n",
       "\n",
       "    .dataframe thead th {\n",
       "        text-align: right;\n",
       "    }\n",
       "</style>\n",
       "<table border=\"1\" class=\"dataframe\">\n",
       "  <thead>\n",
       "    <tr style=\"text-align: right;\">\n",
       "      <th></th>\n",
       "      <th>median</th>\n",
       "      <th>min</th>\n",
       "      <th>max</th>\n",
       "      <th>count</th>\n",
       "    </tr>\n",
       "    <tr>\n",
       "      <th>job_title_short</th>\n",
       "      <th></th>\n",
       "      <th></th>\n",
       "      <th></th>\n",
       "      <th></th>\n",
       "    </tr>\n",
       "  </thead>\n",
       "  <tbody>\n",
       "    <tr>\n",
       "      <th>Senior Data Scientist</th>\n",
       "      <td>155000.0</td>\n",
       "      <td>55000.0</td>\n",
       "      <td>475000.0</td>\n",
       "      <td>1241</td>\n",
       "    </tr>\n",
       "    <tr>\n",
       "      <th>Machine Learning Engineer</th>\n",
       "      <td>150000.0</td>\n",
       "      <td>44408.5</td>\n",
       "      <td>315000.0</td>\n",
       "      <td>128</td>\n",
       "    </tr>\n",
       "    <tr>\n",
       "      <th>Senior Data Engineer</th>\n",
       "      <td>150000.0</td>\n",
       "      <td>45000.0</td>\n",
       "      <td>375000.0</td>\n",
       "      <td>1058</td>\n",
       "    </tr>\n",
       "    <tr>\n",
       "      <th>Data Scientist</th>\n",
       "      <td>130000.0</td>\n",
       "      <td>30000.0</td>\n",
       "      <td>960000.0</td>\n",
       "      <td>4553</td>\n",
       "    </tr>\n",
       "    <tr>\n",
       "      <th>Software Engineer</th>\n",
       "      <td>130000.0</td>\n",
       "      <td>48982.0</td>\n",
       "      <td>375000.0</td>\n",
       "      <td>157</td>\n",
       "    </tr>\n",
       "    <tr>\n",
       "      <th>Data Engineer</th>\n",
       "      <td>125000.0</td>\n",
       "      <td>23496.0</td>\n",
       "      <td>525000.0</td>\n",
       "      <td>2915</td>\n",
       "    </tr>\n",
       "    <tr>\n",
       "      <th>Cloud Engineer</th>\n",
       "      <td>116100.0</td>\n",
       "      <td>42000.0</td>\n",
       "      <td>221844.0</td>\n",
       "      <td>20</td>\n",
       "    </tr>\n",
       "    <tr>\n",
       "      <th>Senior Data Analyst</th>\n",
       "      <td>110000.0</td>\n",
       "      <td>35360.0</td>\n",
       "      <td>425000.0</td>\n",
       "      <td>913</td>\n",
       "    </tr>\n",
       "    <tr>\n",
       "      <th>Business Analyst</th>\n",
       "      <td>90000.0</td>\n",
       "      <td>35000.0</td>\n",
       "      <td>387460.0</td>\n",
       "      <td>431</td>\n",
       "    </tr>\n",
       "    <tr>\n",
       "      <th>Data Analyst</th>\n",
       "      <td>90000.0</td>\n",
       "      <td>25000.0</td>\n",
       "      <td>375000.0</td>\n",
       "      <td>4350</td>\n",
       "    </tr>\n",
       "  </tbody>\n",
       "</table>\n",
       "</div>"
      ],
      "text/plain": [
       "                             median      min       max  count\n",
       "job_title_short                                              \n",
       "Senior Data Scientist      155000.0  55000.0  475000.0   1241\n",
       "Machine Learning Engineer  150000.0  44408.5  315000.0    128\n",
       "Senior Data Engineer       150000.0  45000.0  375000.0   1058\n",
       "Data Scientist             130000.0  30000.0  960000.0   4553\n",
       "Software Engineer          130000.0  48982.0  375000.0    157\n",
       "Data Engineer              125000.0  23496.0  525000.0   2915\n",
       "Cloud Engineer             116100.0  42000.0  221844.0     20\n",
       "Senior Data Analyst        110000.0  35360.0  425000.0    913\n",
       "Business Analyst            90000.0  35000.0  387460.0    431\n",
       "Data Analyst                90000.0  25000.0  375000.0   4350"
      ]
     },
     "execution_count": 25,
     "metadata": {},
     "output_type": "execute_result"
    }
   ],
   "source": [
    "us.groupby(['job_title_short'])['salary_year_avg'].agg(['median','min','max','count']).sort_values('median',ascending=False)"
   ]
  }
 ],
 "metadata": {
  "kernelspec": {
   "display_name": "Python 3",
   "language": "python",
   "name": "python3"
  },
  "language_info": {
   "codemirror_mode": {
    "name": "ipython",
    "version": 3
   },
   "file_extension": ".py",
   "mimetype": "text/x-python",
   "name": "python",
   "nbconvert_exporter": "python",
   "pygments_lexer": "ipython3",
   "version": "3.13.3"
  }
 },
 "nbformat": 4,
 "nbformat_minor": 5
}
