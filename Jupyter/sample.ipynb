{
 "cells": [
  {
   "cell_type": "code",
   "execution_count": 2,
   "id": "df4918a2",
   "metadata": {},
   "outputs": [],
   "source": [
    "import pandas as pd"
   ]
  },
  {
   "cell_type": "code",
   "execution_count": 3,
   "id": "619d8924",
   "metadata": {},
   "outputs": [],
   "source": [
    "s = pd.Series([1,2,3,4,5])"
   ]
  },
  {
   "cell_type": "code",
   "execution_count": 4,
   "id": "01902bad",
   "metadata": {},
   "outputs": [],
   "source": [
    "df = pd.DataFrame({\"names\":[\"Vivek\",\"Raunit\",\"Nishant\"], \"marks\":[96,81,79]})"
   ]
  },
  {
   "cell_type": "code",
   "execution_count": 5,
   "id": "2c1713f2",
   "metadata": {},
   "outputs": [
    {
     "data": {
      "text/plain": [
       "0    1\n",
       "1    2\n",
       "2    3\n",
       "3    4\n",
       "4    5\n",
       "dtype: int64"
      ]
     },
     "execution_count": 5,
     "metadata": {},
     "output_type": "execute_result"
    }
   ],
   "source": [
    "s"
   ]
  },
  {
   "cell_type": "code",
   "execution_count": 6,
   "id": "9af5dbe8",
   "metadata": {},
   "outputs": [
    {
     "data": {
      "text/html": [
       "<div>\n",
       "<style scoped>\n",
       "    .dataframe tbody tr th:only-of-type {\n",
       "        vertical-align: middle;\n",
       "    }\n",
       "\n",
       "    .dataframe tbody tr th {\n",
       "        vertical-align: top;\n",
       "    }\n",
       "\n",
       "    .dataframe thead th {\n",
       "        text-align: right;\n",
       "    }\n",
       "</style>\n",
       "<table border=\"1\" class=\"dataframe\">\n",
       "  <thead>\n",
       "    <tr style=\"text-align: right;\">\n",
       "      <th></th>\n",
       "      <th>names</th>\n",
       "      <th>marks</th>\n",
       "    </tr>\n",
       "  </thead>\n",
       "  <tbody>\n",
       "    <tr>\n",
       "      <th>0</th>\n",
       "      <td>Vivek</td>\n",
       "      <td>96</td>\n",
       "    </tr>\n",
       "    <tr>\n",
       "      <th>1</th>\n",
       "      <td>Raunit</td>\n",
       "      <td>81</td>\n",
       "    </tr>\n",
       "    <tr>\n",
       "      <th>2</th>\n",
       "      <td>Nishant</td>\n",
       "      <td>79</td>\n",
       "    </tr>\n",
       "  </tbody>\n",
       "</table>\n",
       "</div>"
      ],
      "text/plain": [
       "     names  marks\n",
       "0    Vivek     96\n",
       "1   Raunit     81\n",
       "2  Nishant     79"
      ]
     },
     "execution_count": 6,
     "metadata": {},
     "output_type": "execute_result"
    }
   ],
   "source": [
    "df"
   ]
  },
  {
   "cell_type": "code",
   "execution_count": 2,
   "id": "2619c305",
   "metadata": {},
   "outputs": [],
   "source": [
    "from datasets import load_dataset"
   ]
  },
  {
   "cell_type": "code",
   "execution_count": 4,
   "id": "fad0c913",
   "metadata": {},
   "outputs": [
    {
     "name": "stderr",
     "output_type": "stream",
     "text": [
      "Repo card metadata block was not found. Setting CardData to empty.\n"
     ]
    }
   ],
   "source": [
    "dataset = load_dataset('deepseek-ai/DeepSeek-ProverBench')"
   ]
  },
  {
   "cell_type": "code",
   "execution_count": 6,
   "id": "1b0dedfb",
   "metadata": {},
   "outputs": [
    {
     "data": {
      "text/html": [
       "<div>\n",
       "<style scoped>\n",
       "    .dataframe tbody tr th:only-of-type {\n",
       "        vertical-align: middle;\n",
       "    }\n",
       "\n",
       "    .dataframe tbody tr th {\n",
       "        vertical-align: top;\n",
       "    }\n",
       "\n",
       "    .dataframe thead th {\n",
       "        text-align: right;\n",
       "    }\n",
       "</style>\n",
       "<table border=\"1\" class=\"dataframe\">\n",
       "  <thead>\n",
       "    <tr style=\"text-align: right;\">\n",
       "      <th></th>\n",
       "      <th>name</th>\n",
       "      <th>area</th>\n",
       "      <th>header</th>\n",
       "      <th>formal_statement</th>\n",
       "    </tr>\n",
       "  </thead>\n",
       "  <tbody>\n",
       "    <tr>\n",
       "      <th>0</th>\n",
       "      <td>aime_2024i_p2</td>\n",
       "      <td>aime</td>\n",
       "      <td>import Mathlib\\nimport Aesop\\n\\nset_option max...</td>\n",
       "      <td>theorem aime_2024i_p2 (x y : ℝ) (hx : 1 &lt; x) (...</td>\n",
       "    </tr>\n",
       "    <tr>\n",
       "      <th>1</th>\n",
       "      <td>aime_2024i_p7</td>\n",
       "      <td>aime</td>\n",
       "      <td>import Mathlib\\nimport Aesop\\n\\nset_option max...</td>\n",
       "      <td>theorem aime_2024i_p7 (f : ℂ → ℂ)\\n    (h₀ : ∀...</td>\n",
       "    </tr>\n",
       "    <tr>\n",
       "      <th>2</th>\n",
       "      <td>aime_2024i_p13</td>\n",
       "      <td>aime</td>\n",
       "      <td>import Mathlib\\nimport Aesop\\n\\nset_option max...</td>\n",
       "      <td>theorem aime_2024i_p13 (p m : ℕ) (h₀ : isSolut...</td>\n",
       "    </tr>\n",
       "    <tr>\n",
       "      <th>3</th>\n",
       "      <td>aime_2024ii_p4</td>\n",
       "      <td>aime</td>\n",
       "      <td>import Mathlib\\nimport Aesop\\n\\nset_option max...</td>\n",
       "      <td>theorem aime_2024ii_p4 (ans : ℚ) (x y z : ℝ)\\n...</td>\n",
       "    </tr>\n",
       "    <tr>\n",
       "      <th>4</th>\n",
       "      <td>aime_2024ii_p7</td>\n",
       "      <td>aime</td>\n",
       "      <td>import Mathlib\\nimport Aesop\\n\\nset_option max...</td>\n",
       "      <td>theorem aime_2024ii_p7 (n : ℕ)\\n    (h₀ : IsGr...</td>\n",
       "    </tr>\n",
       "    <tr>\n",
       "      <th>...</th>\n",
       "      <td>...</td>\n",
       "      <td>...</td>\n",
       "      <td>...</td>\n",
       "      <td>...</td>\n",
       "    </tr>\n",
       "    <tr>\n",
       "      <th>320</th>\n",
       "      <td>probability__p2_2</td>\n",
       "      <td>probability</td>\n",
       "      <td>import Mathlib\\n\\n/-\\nLet $A = [a_{ij}]$ be a ...</td>\n",
       "      <td>/-- A^3 is computed as A * A^2 -/\\nlemma A_cub...</td>\n",
       "    </tr>\n",
       "    <tr>\n",
       "      <th>321</th>\n",
       "      <td>probability__p2_3</td>\n",
       "      <td>probability</td>\n",
       "      <td>import Mathlib\\n\\n/-\\nLet $A = [a_{ij}]$ be a ...</td>\n",
       "      <td>/-- X3 is computed as A^3 * X0 -/\\nlemma X3 : ...</td>\n",
       "    </tr>\n",
       "    <tr>\n",
       "      <th>322</th>\n",
       "      <td>probability__p2_4</td>\n",
       "      <td>probability</td>\n",
       "      <td>import Mathlib\\n\\n/-\\nLet $A = [a_{ij}]$ be a ...</td>\n",
       "      <td>/-- The probability of being in the second loc...</td>\n",
       "    </tr>\n",
       "    <tr>\n",
       "      <th>323</th>\n",
       "      <td>probability__p3_1</td>\n",
       "      <td>probability</td>\n",
       "      <td>import Mathlib\\n\\n/-\\nIn a sequential shooting...</td>\n",
       "      <td>/-- Theorem: Given p_A = 0.3 and p_B = 0.4, th...</td>\n",
       "    </tr>\n",
       "    <tr>\n",
       "      <th>324</th>\n",
       "      <td>probability__p3_2</td>\n",
       "      <td>probability</td>\n",
       "      <td>import Mathlib\\n\\n/-\\nIn a sequential shooting...</td>\n",
       "      <td>/-- Theorem: The probability of A hitting firs...</td>\n",
       "    </tr>\n",
       "  </tbody>\n",
       "</table>\n",
       "<p>325 rows × 4 columns</p>\n",
       "</div>"
      ],
      "text/plain": [
       "                  name         area  \\\n",
       "0        aime_2024i_p2         aime   \n",
       "1        aime_2024i_p7         aime   \n",
       "2       aime_2024i_p13         aime   \n",
       "3       aime_2024ii_p4         aime   \n",
       "4       aime_2024ii_p7         aime   \n",
       "..                 ...          ...   \n",
       "320  probability__p2_2  probability   \n",
       "321  probability__p2_3  probability   \n",
       "322  probability__p2_4  probability   \n",
       "323  probability__p3_1  probability   \n",
       "324  probability__p3_2  probability   \n",
       "\n",
       "                                                header  \\\n",
       "0    import Mathlib\\nimport Aesop\\n\\nset_option max...   \n",
       "1    import Mathlib\\nimport Aesop\\n\\nset_option max...   \n",
       "2    import Mathlib\\nimport Aesop\\n\\nset_option max...   \n",
       "3    import Mathlib\\nimport Aesop\\n\\nset_option max...   \n",
       "4    import Mathlib\\nimport Aesop\\n\\nset_option max...   \n",
       "..                                                 ...   \n",
       "320  import Mathlib\\n\\n/-\\nLet $A = [a_{ij}]$ be a ...   \n",
       "321  import Mathlib\\n\\n/-\\nLet $A = [a_{ij}]$ be a ...   \n",
       "322  import Mathlib\\n\\n/-\\nLet $A = [a_{ij}]$ be a ...   \n",
       "323  import Mathlib\\n\\n/-\\nIn a sequential shooting...   \n",
       "324  import Mathlib\\n\\n/-\\nIn a sequential shooting...   \n",
       "\n",
       "                                      formal_statement  \n",
       "0    theorem aime_2024i_p2 (x y : ℝ) (hx : 1 < x) (...  \n",
       "1    theorem aime_2024i_p7 (f : ℂ → ℂ)\\n    (h₀ : ∀...  \n",
       "2    theorem aime_2024i_p13 (p m : ℕ) (h₀ : isSolut...  \n",
       "3    theorem aime_2024ii_p4 (ans : ℚ) (x y z : ℝ)\\n...  \n",
       "4    theorem aime_2024ii_p7 (n : ℕ)\\n    (h₀ : IsGr...  \n",
       "..                                                 ...  \n",
       "320  /-- A^3 is computed as A * A^2 -/\\nlemma A_cub...  \n",
       "321  /-- X3 is computed as A^3 * X0 -/\\nlemma X3 : ...  \n",
       "322  /-- The probability of being in the second loc...  \n",
       "323  /-- Theorem: Given p_A = 0.3 and p_B = 0.4, th...  \n",
       "324  /-- Theorem: The probability of A hitting firs...  \n",
       "\n",
       "[325 rows x 4 columns]"
      ]
     },
     "execution_count": 6,
     "metadata": {},
     "output_type": "execute_result"
    }
   ],
   "source": [
    "dataset['train'].to_pandas()"
   ]
  }
 ],
 "metadata": {
  "kernelspec": {
   "display_name": "Python 3",
   "language": "python",
   "name": "python3"
  },
  "language_info": {
   "codemirror_mode": {
    "name": "ipython",
    "version": 3
   },
   "file_extension": ".py",
   "mimetype": "text/x-python",
   "name": "python",
   "nbconvert_exporter": "python",
   "pygments_lexer": "ipython3",
   "version": "3.13.3"
  }
 },
 "nbformat": 4,
 "nbformat_minor": 5
}
